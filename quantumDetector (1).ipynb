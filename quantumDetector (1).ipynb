{
 "cells": [
  {
   "cell_type": "code",
   "execution_count": 3,
   "id": "0d3e4889-3675-4422-8889-ee179c560f9d",
   "metadata": {},
   "outputs": [],
   "source": [
    "import numpy as np\n",
    "import matplotlib.pyplot as plt\n",
    "from qiskit import(\n",
    "    QuantumCircuit,\n",
    "    QuantumRegister,\n",
    "    execute,\n",
    "    Aer)\n",
    "from qiskit.quantum_info.operators import Operator\n",
    "\n",
    "#imports"
   ]
  },
  {
   "cell_type": "code",
   "execution_count": 70,
   "id": "ad27b976-45a6-413a-ba45-5add734f8532",
   "metadata": {},
   "outputs": [
    {
     "name": "stdout",
     "output_type": "stream",
     "text": [
      "0\n"
     ]
    },
    {
     "data": {
      "image/png": "[encoded data removed]",
      "text/plain": [
       "<Figure size 432x288 with 1 Axes>"
      ]
     },
     "metadata": {
      "needs_background": "light"
     },
     "output_type": "display_data"
    },
    {
     "data": {
      "image/png": "[encoded data removed]",
      "text/plain": [
       "<Figure size 432x288 with 1 Axes>"
      ]
     },
     "metadata": {
      "needs_background": "light"
     },
     "output_type": "display_data"
    }
   ],
   "source": [
    "#number of trials to determine whether bomb is predicted/explode or a dud/fake\n",
    "#10 is inconsistent max trials; 20+ trials is more consistent for predicting bomb without exploding\n",
    "\n",
    "inputTrials = 10\n",
    "\n",
    "rotations = inputTrials\n",
    "e = np.pi/(2*rotations)\n",
    "shots = 1\n",
    "\n",
    "\n",
    "#applied rotations until you can predict the bomb (depending on # trials)\n",
    "def elitzur_vaidman(bomb):\n",
    "    measurements = rotations + 1 if bomb else 1\n",
    "    circuit = QuantumCircuit(1, measurements)\n",
    "\n",
    "    rotate = Operator([\n",
    "        [np.cos(e), -np.sin(e)],\n",
    "        [np.sin(e), np.cos(e)]])\n",
    "\n",
    "    for i in range(rotations):\n",
    "        circuit.unitary(rotate, [0], label='Re')\n",
    "        if bomb:\n",
    "            circuit.measure(0, i)\n",
    "\n",
    "    circuit.measure(0, measurements - 1)\n",
    "\n",
    "#code to show the predict of real and fake bomb\n",
    "    simulator = Aer.get_backend('qasm_simulator')\n",
    "    job = execute(circuit, simulator, shots=shots)\n",
    "    result = job.result()\n",
    "    counts = result.get_counts(circuit) #returns a hash map\n",
    "    predict_bomb = predict_no_bomb = blown_up = 0\n",
    "    if bomb:\n",
    "        predict_bomb = counts['0' * measurements] if '0' * measurements in counts else 0 #checks to see if there's a key in hash map\n",
    "        zeros_one = '0' * (predict_no_bomb - 1) + '1'\n",
    "        predict_no_bomb = counts[zeros_one] if zeros_one in counts else 0\n",
    "        blown_up = shots - predict_bomb - predict_no_bomb\n",
    "    else:\n",
    "        predict_bomb = counts['0'] if '0' in counts else 0\n",
    "        predict_no_bomb = counts['1']\n",
    "        blown_up = 0\n",
    "\n",
    "    y_pos = np.arange(3)\n",
    "    plt.bar(y_pos, [predict_bomb, predict_no_bomb, blown_up])\n",
    "    plt.xticks(y_pos, ['Predicts bomb', 'Predicts no bomb', 'Blown up'])\n",
    "    plt.ylabel('Trials')\n",
    "    plt.title('Elitzur-Vaidman results with' +\n",
    "              (' ' if bomb else ' no ') + 'bomb')\n",
    "\n",
    "    plt.show()\n",
    "elitzur_vaidman(bomb=True)\n",
    "elitzur_vaidman(bomb=False)"
   ]
  },
  {
   "cell_type": "code",
   "execution_count": null,
   "id": "2ba5de67-b3f1-4319-a4f1-8e5751af6bbc",
   "metadata": {},
   "outputs": [],
   "source": []
  }
 ],
 "metadata": {
  "kernelspec": {
   "display_name": "Python 3 (ipykernel)",
   "language": "python",
   "name": "python3"
  },
  "language_info": {
   "codemirror_mode": {
    "name": "ipython",
    "version": 3
   },
   "file_extension": ".py",
   "mimetype": "text/x-python",
   "name": "python",
   "nbconvert_exporter": "python",
   "pygments_lexer": "ipython3",
   "version": "3.8.13"
  },
  "widgets": {
   "application/vnd.jupyter.widget-state+json": {
    "state": {},
    "version_major": 2,
    "version_minor": 0
   }
  }
 },
 "nbformat": 4,
 "nbformat_minor": 5
}
